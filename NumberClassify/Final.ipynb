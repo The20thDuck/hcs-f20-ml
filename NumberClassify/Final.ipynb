{
 "cells": [
  {
   "cell_type": "code",
   "execution_count": 9,
   "metadata": {},
   "outputs": [],
   "source": [
    "# import required libraries\n",
    "import numpy as np\n",
    "import matplotlib.pyplot as plt\n",
    "import tensorflow as tf\n",
    "from tensorflow import keras\n",
    "from tensorflow.keras import layers\n",
    "import math"
   ]
  },
  {
   "cell_type": "code",
   "execution_count": 27,
   "metadata": {},
   "outputs": [],
   "source": [
    "# loading the data\n",
    "import csv\n",
    "\n",
    "with open('train.csv', newline='') as csvfile:\n",
    "    data = list(csv.reader(csvfile))\n",
    "    \n",
    "\n",
    "data_x = [[int(x) for x in row[1:]] for row in data[1:]]\n",
    "data_y = [[0 if i != int(row[0]) else 1 for i in range(10)] for row in data[1:]]"
   ]
  },
  {
   "cell_type": "code",
   "execution_count": 28,
   "metadata": {},
   "outputs": [
    {
     "name": "stdout",
     "output_type": "stream",
     "text": [
      "[[0 0 0 ... 0 0 0]\n",
      " [0 0 0 ... 0 0 0]]\n",
      "[[0 1 0 0 0 0 0 0 0 0]\n",
      " [1 0 0 0 0 0 0 0 0 0]]\n"
     ]
    }
   ],
   "source": [
    "# randomizing the data\n",
    "\n",
    "# splitting into test and train\n",
    "train_percent = 0.8\n",
    "\n",
    "cutoff = math.floor(len(data) * train_percent)\n",
    "X_train = np.array(data_x[:cutoff])\n",
    "Y_train = np.array(data_y[:cutoff])\n",
    "X_test = np.array(data_x[cutoff:])\n",
    "Y_test = np.array(data_y[cutoff:])\n",
    "print(X_train[:2])\n",
    "print(Y_train[:2])\n"
   ]
  },
  {
   "cell_type": "code",
   "execution_count": 29,
   "metadata": {},
   "outputs": [],
   "source": [
    "# normalize the X data\n",
    "X_train = X_train.astype('float32')\n",
    "X_test = X_test.astype('float32')\n",
    "X_train /= 255\n",
    "X_test /= 255"
   ]
  },
  {
   "cell_type": "code",
   "execution_count": 30,
   "metadata": {},
   "outputs": [],
   "source": [
    "# building out the model\n",
    "model = keras.models.Sequential()\n",
    "\n",
    "# adding the first hidden layer\n",
    "model.add(layers.Dense(512, input_shape=(784,)))\n",
    "model.add(layers.Activation('relu'))                            \n",
    "model.add(layers.Dropout(0.2))\n",
    "\n",
    "# adding the second hidden layer\n",
    "model.add(layers.Dense(512))\n",
    "model.add(layers.Activation('relu'))\n",
    "model.add(layers.Dropout(0.2))\n",
    "\n",
    "# adding the output layer\n",
    "model.add(layers.Dense(10))\n",
    "model.add(layers.Activation('softmax'))"
   ]
  },
  {
   "cell_type": "code",
   "execution_count": 31,
   "metadata": {},
   "outputs": [],
   "source": [
    "# compiling the model\n",
    "model.compile(loss='categorical_crossentropy', metrics=['accuracy'], optimizer='adam')"
   ]
  },
  {
   "cell_type": "code",
   "execution_count": 32,
   "metadata": {},
   "outputs": [
    {
     "name": "stdout",
     "output_type": "stream",
     "text": [
      "Epoch 1/20\n",
      "263/263 - 4s - loss: 0.3242 - accuracy: 0.9015 - val_loss: 0.1398 - val_accuracy: 0.9590\n",
      "Epoch 2/20\n",
      "263/263 - 4s - loss: 0.1248 - accuracy: 0.9626 - val_loss: 0.1029 - val_accuracy: 0.9699\n",
      "Epoch 3/20\n",
      "263/263 - 5s - loss: 0.0863 - accuracy: 0.9726 - val_loss: 0.0967 - val_accuracy: 0.9704\n",
      "Epoch 4/20\n",
      "263/263 - 4s - loss: 0.0632 - accuracy: 0.9801 - val_loss: 0.0881 - val_accuracy: 0.9733\n",
      "Epoch 5/20\n",
      "263/263 - 8s - loss: 0.0498 - accuracy: 0.9837 - val_loss: 0.0900 - val_accuracy: 0.9742\n",
      "Epoch 6/20\n",
      "263/263 - 5s - loss: 0.0415 - accuracy: 0.9860 - val_loss: 0.0941 - val_accuracy: 0.9713\n",
      "Epoch 7/20\n",
      "263/263 - 7s - loss: 0.0362 - accuracy: 0.9881 - val_loss: 0.0908 - val_accuracy: 0.9735\n",
      "Epoch 8/20\n",
      "263/263 - 6s - loss: 0.0286 - accuracy: 0.9904 - val_loss: 0.0990 - val_accuracy: 0.9754\n",
      "Epoch 9/20\n",
      "263/263 - 6s - loss: 0.0311 - accuracy: 0.9893 - val_loss: 0.0885 - val_accuracy: 0.9770\n",
      "Epoch 10/20\n",
      "263/263 - 6s - loss: 0.0236 - accuracy: 0.9917 - val_loss: 0.0922 - val_accuracy: 0.9787\n",
      "Epoch 11/20\n",
      "263/263 - 5s - loss: 0.0220 - accuracy: 0.9926 - val_loss: 0.1064 - val_accuracy: 0.9748\n",
      "Epoch 12/20\n",
      "263/263 - 6s - loss: 0.0213 - accuracy: 0.9924 - val_loss: 0.0939 - val_accuracy: 0.9780\n",
      "Epoch 13/20\n",
      "263/263 - 5s - loss: 0.0149 - accuracy: 0.9955 - val_loss: 0.1020 - val_accuracy: 0.9770\n",
      "Epoch 14/20\n",
      "263/263 - 7s - loss: 0.0175 - accuracy: 0.9940 - val_loss: 0.1041 - val_accuracy: 0.9783\n",
      "Epoch 15/20\n",
      "263/263 - 6s - loss: 0.0226 - accuracy: 0.9921 - val_loss: 0.0974 - val_accuracy: 0.9783\n",
      "Epoch 16/20\n",
      "263/263 - 5s - loss: 0.0199 - accuracy: 0.9927 - val_loss: 0.1047 - val_accuracy: 0.9779\n",
      "Epoch 17/20\n",
      "263/263 - 5s - loss: 0.0158 - accuracy: 0.9946 - val_loss: 0.0995 - val_accuracy: 0.9796\n",
      "Epoch 18/20\n",
      "263/263 - 5s - loss: 0.0134 - accuracy: 0.9954 - val_loss: 0.1047 - val_accuracy: 0.9794\n",
      "Epoch 19/20\n",
      "263/263 - 4s - loss: 0.0152 - accuracy: 0.9954 - val_loss: 0.1111 - val_accuracy: 0.9775\n",
      "Epoch 20/20\n",
      "263/263 - 5s - loss: 0.0190 - accuracy: 0.9941 - val_loss: 0.1073 - val_accuracy: 0.9776\n"
     ]
    }
   ],
   "source": [
    "# training the model\n",
    "history = model.fit(X_train, Y_train,\n",
    "          batch_size=128, epochs=20,\n",
    "          verbose=2,\n",
    "          validation_data=(X_test, Y_test))"
   ]
  },
  {
   "cell_type": "code",
   "execution_count": null,
   "metadata": {},
   "outputs": [],
   "source": []
  },
  {
   "cell_type": "code",
   "execution_count": null,
   "metadata": {},
   "outputs": [],
   "source": []
  }
 ],
 "metadata": {
  "kernelspec": {
   "display_name": "Python 3",
   "language": "python",
   "name": "python3"
  },
  "language_info": {
   "codemirror_mode": {
    "name": "ipython",
    "version": 3
   },
   "file_extension": ".py",
   "mimetype": "text/x-python",
   "name": "python",
   "nbconvert_exporter": "python",
   "pygments_lexer": "ipython3",
   "version": "3.8.5"
  }
 },
 "nbformat": 4,
 "nbformat_minor": 2
}
